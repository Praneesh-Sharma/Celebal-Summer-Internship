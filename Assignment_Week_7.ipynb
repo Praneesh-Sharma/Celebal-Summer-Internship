{
  "metadata": {
    "kernelspec": {
      "language": "python",
      "display_name": "Python 3",
      "name": "python3"
    },
    "language_info": {
      "name": "python",
      "version": "3.10.13",
      "mimetype": "text/x-python",
      "codemirror_mode": {
        "name": "ipython",
        "version": 3
      },
      "pygments_lexer": "ipython3",
      "nbconvert_exporter": "python",
      "file_extension": ".py"
    },
    "kaggle": {
      "accelerator": "none",
      "dataSources": [
        {
          "sourceId": 5407,
          "databundleVersionId": 868283,
          "sourceType": "competition"
        }
      ],
      "dockerImageVersionId": 30746,
      "isInternetEnabled": true,
      "language": "python",
      "sourceType": "notebook",
      "isGpuEnabled": false
    },
    "colab": {
      "name": "Assignment_Week_7",
      "provenance": [],
      "include_colab_link": true
    }
  },
  "nbformat_minor": 0,
  "nbformat": 4,
  "cells": [
    {
      "cell_type": "markdown",
      "metadata": {
        "id": "view-in-github",
        "colab_type": "text"
      },
      "source": [
        "<a href=\"https://colab.research.google.com/github/Praneesh-Sharma/Celebal-Summer-Internship/blob/main/Assignment_Week_7.ipynb\" target=\"_parent\"><img src=\"https://colab.research.google.com/assets/colab-badge.svg\" alt=\"Open In Colab\"/></a>"
      ]
    },
    {
      "source": [
        "\n",
        "# IMPORTANT: RUN THIS CELL IN ORDER TO IMPORT YOUR KAGGLE DATA SOURCES\n",
        "# TO THE CORRECT LOCATION (/kaggle/input) IN YOUR NOTEBOOK,\n",
        "# THEN FEEL FREE TO DELETE THIS CELL.\n",
        "# NOTE: THIS NOTEBOOK ENVIRONMENT DIFFERS FROM KAGGLE'S PYTHON\n",
        "# ENVIRONMENT SO THERE MAY BE MISSING LIBRARIES USED BY YOUR\n",
        "# NOTEBOOK.\n",
        "\n",
        "import os\n",
        "import sys\n",
        "from tempfile import NamedTemporaryFile\n",
        "from urllib.request import urlopen\n",
        "from urllib.parse import unquote, urlparse\n",
        "from urllib.error import HTTPError\n",
        "from zipfile import ZipFile\n",
        "import tarfile\n",
        "import shutil\n",
        "\n",
        "CHUNK_SIZE = 40960\n",
        "DATA_SOURCE_MAPPING = 'house-prices-advanced-regression-techniques:https%3A%2F%2Fstorage.googleapis.com%2Fkaggle-competitions-data%2Fkaggle-v2%2F5407%2F868283%2Fbundle%2Farchive.zip%3FX-Goog-Algorithm%3DGOOG4-RSA-SHA256%26X-Goog-Credential%3Dgcp-kaggle-com%2540kaggle-161607.iam.gserviceaccount.com%252F20240717%252Fauto%252Fstorage%252Fgoog4_request%26X-Goog-Date%3D20240717T023949Z%26X-Goog-Expires%3D259200%26X-Goog-SignedHeaders%3Dhost%26X-Goog-Signature%3D3647f6b195eeaebec05df8ac48133cc7a7fb48dcbabbeed243a03036b4d41ef39617a64df695412c71c04960792a20de5ea6843a1a5566284c3add3fcb2980eff492eefe0fb011726a796ca2fe8008cf90790399d3c9ef3347358e2ff5f42d46b7fa40a182493d350dd8c2e69c364e7db8dbe67218615e2190162df2b38e0bc99a6dc15c17ce7ad4148465457c980b9201b573fb91eb848e0956ac6f8ec03596f4530436b9ae1ca24cd4ef012c0dcb146f32dedeaeb2f95ec24ab149ec00fb2e2ca88c01d5c0ca6fd29bfb038f978f6e45f6770bf20cfcf454724daae1b51656935bd4cc3bd50ed2d89a04c778665568b84dbba7f07b16faa9c3026915fc2457'\n",
        "\n",
        "KAGGLE_INPUT_PATH='/kaggle/input'\n",
        "KAGGLE_WORKING_PATH='/kaggle/working'\n",
        "KAGGLE_SYMLINK='kaggle'\n",
        "\n",
        "!umount /kaggle/input/ 2> /dev/null\n",
        "shutil.rmtree('/kaggle/input', ignore_errors=True)\n",
        "os.makedirs(KAGGLE_INPUT_PATH, 0o777, exist_ok=True)\n",
        "os.makedirs(KAGGLE_WORKING_PATH, 0o777, exist_ok=True)\n",
        "\n",
        "try:\n",
        "  os.symlink(KAGGLE_INPUT_PATH, os.path.join(\"..\", 'input'), target_is_directory=True)\n",
        "except FileExistsError:\n",
        "  pass\n",
        "try:\n",
        "  os.symlink(KAGGLE_WORKING_PATH, os.path.join(\"..\", 'working'), target_is_directory=True)\n",
        "except FileExistsError:\n",
        "  pass\n",
        "\n",
        "for data_source_mapping in DATA_SOURCE_MAPPING.split(','):\n",
        "    directory, download_url_encoded = data_source_mapping.split(':')\n",
        "    download_url = unquote(download_url_encoded)\n",
        "    filename = urlparse(download_url).path\n",
        "    destination_path = os.path.join(KAGGLE_INPUT_PATH, directory)\n",
        "    try:\n",
        "        with urlopen(download_url) as fileres, NamedTemporaryFile() as tfile:\n",
        "            total_length = fileres.headers['content-length']\n",
        "            print(f'Downloading {directory}, {total_length} bytes compressed')\n",
        "            dl = 0\n",
        "            data = fileres.read(CHUNK_SIZE)\n",
        "            while len(data) > 0:\n",
        "                dl += len(data)\n",
        "                tfile.write(data)\n",
        "                done = int(50 * dl / int(total_length))\n",
        "                sys.stdout.write(f\"\\r[{'=' * done}{' ' * (50-done)}] {dl} bytes downloaded\")\n",
        "                sys.stdout.flush()\n",
        "                data = fileres.read(CHUNK_SIZE)\n",
        "            if filename.endswith('.zip'):\n",
        "              with ZipFile(tfile) as zfile:\n",
        "                zfile.extractall(destination_path)\n",
        "            else:\n",
        "              with tarfile.open(tfile.name) as tarfile:\n",
        "                tarfile.extractall(destination_path)\n",
        "            print(f'\\nDownloaded and uncompressed: {directory}')\n",
        "    except HTTPError as e:\n",
        "        print(f'Failed to load (likely expired) {download_url} to path {destination_path}')\n",
        "        continue\n",
        "    except OSError as e:\n",
        "        print(f'Failed to load {download_url} to path {destination_path}')\n",
        "        continue\n",
        "\n",
        "print('Data source import complete.')\n"
      ],
      "metadata": {
        "id": "WjH0br4Rj32v",
        "outputId": "5374b58a-3c4d-4d49-f00d-2e6caba6e42e",
        "colab": {
          "base_uri": "https://localhost:8080/"
        }
      },
      "cell_type": "code",
      "outputs": [
        {
          "output_type": "stream",
          "name": "stdout",
          "text": [
            "Downloading house-prices-advanced-regression-techniques, 203809 bytes compressed\n",
            "[==================================================] 203809 bytes downloaded\n",
            "Downloaded and uncompressed: house-prices-advanced-regression-techniques\n",
            "Data source import complete.\n"
          ]
        }
      ],
      "execution_count": 1
    },
    {
      "cell_type": "markdown",
      "source": [
        "## CSI Assignment Week_6\n",
        "\n",
        "Author - Praneesh Sharma"
      ],
      "metadata": {
        "id": "OB8RIdqlj322"
      }
    },
    {
      "cell_type": "markdown",
      "source": [
        "### Importing Libraires"
      ],
      "metadata": {
        "id": "f7ppwVXuj326"
      }
    },
    {
      "cell_type": "code",
      "source": [
        "import numpy as np\n",
        "import pandas as pd\n",
        "from sklearn.model_selection import train_test_split\n",
        "from sklearn.preprocessing import StandardScaler, PolynomialFeatures\n",
        "from sklearn.linear_model import LinearRegression, Ridge, Lasso, ElasticNet\n",
        "from sklearn.metrics import mean_squared_error\n",
        "from scipy import stats"
      ],
      "metadata": {
        "execution": {
          "iopub.status.busy": "2024-07-17T02:34:35.279258Z",
          "iopub.execute_input": "2024-07-17T02:34:35.279977Z",
          "iopub.status.idle": "2024-07-17T02:34:35.286041Z",
          "shell.execute_reply.started": "2024-07-17T02:34:35.279942Z",
          "shell.execute_reply": "2024-07-17T02:34:35.284654Z"
        },
        "trusted": true,
        "id": "pSD5HIfSj327"
      },
      "execution_count": 2,
      "outputs": []
    },
    {
      "cell_type": "markdown",
      "source": [
        "### Loading Datasets"
      ],
      "metadata": {
        "id": "XNj835bzj328"
      }
    },
    {
      "cell_type": "code",
      "source": [
        "X = pd.read_csv('/kaggle/input/house-prices-advanced-regression-techniques/train.csv', index_col='Id')\n",
        "X_test = pd.read_csv('/kaggle/input/house-prices-advanced-regression-techniques/test.csv', index_col='Id')"
      ],
      "metadata": {
        "execution": {
          "iopub.status.busy": "2024-07-17T02:34:59.859193Z",
          "iopub.execute_input": "2024-07-17T02:34:59.859581Z",
          "iopub.status.idle": "2024-07-17T02:34:59.90315Z",
          "shell.execute_reply.started": "2024-07-17T02:34:59.859554Z",
          "shell.execute_reply": "2024-07-17T02:34:59.901935Z"
        },
        "trusted": true,
        "id": "TO1KKWQuj329"
      },
      "execution_count": 3,
      "outputs": []
    },
    {
      "cell_type": "code",
      "source": [
        "X.head()"
      ],
      "metadata": {
        "execution": {
          "iopub.status.busy": "2024-07-17T02:35:00.049599Z",
          "iopub.execute_input": "2024-07-17T02:35:00.050052Z",
          "iopub.status.idle": "2024-07-17T02:35:00.073075Z",
          "shell.execute_reply.started": "2024-07-17T02:35:00.050018Z",
          "shell.execute_reply": "2024-07-17T02:35:00.071855Z"
        },
        "trusted": true,
        "id": "ePKvxe1Mj329",
        "outputId": "985eaed8-00b7-471c-9980-e4200316a347",
        "colab": {
          "base_uri": "https://localhost:8080/",
          "height": 287
        }
      },
      "execution_count": 4,
      "outputs": [
        {
          "output_type": "execute_result",
          "data": {
            "text/plain": [
              "    MSSubClass MSZoning  LotFrontage  LotArea Street Alley LotShape  \\\n",
              "Id                                                                    \n",
              "1           60       RL         65.0     8450   Pave   NaN      Reg   \n",
              "2           20       RL         80.0     9600   Pave   NaN      Reg   \n",
              "3           60       RL         68.0    11250   Pave   NaN      IR1   \n",
              "4           70       RL         60.0     9550   Pave   NaN      IR1   \n",
              "5           60       RL         84.0    14260   Pave   NaN      IR1   \n",
              "\n",
              "   LandContour Utilities LotConfig  ... PoolArea PoolQC Fence MiscFeature  \\\n",
              "Id                                  ...                                     \n",
              "1          Lvl    AllPub    Inside  ...        0    NaN   NaN         NaN   \n",
              "2          Lvl    AllPub       FR2  ...        0    NaN   NaN         NaN   \n",
              "3          Lvl    AllPub    Inside  ...        0    NaN   NaN         NaN   \n",
              "4          Lvl    AllPub    Corner  ...        0    NaN   NaN         NaN   \n",
              "5          Lvl    AllPub       FR2  ...        0    NaN   NaN         NaN   \n",
              "\n",
              "   MiscVal MoSold  YrSold  SaleType  SaleCondition  SalePrice  \n",
              "Id                                                             \n",
              "1        0      2    2008        WD         Normal     208500  \n",
              "2        0      5    2007        WD         Normal     181500  \n",
              "3        0      9    2008        WD         Normal     223500  \n",
              "4        0      2    2006        WD        Abnorml     140000  \n",
              "5        0     12    2008        WD         Normal     250000  \n",
              "\n",
              "[5 rows x 80 columns]"
            ],
            "text/html": [
              "\n",
              "  <div id=\"df-5b7eef8a-6df5-4464-8792-f7deca8f177b\" class=\"colab-df-container\">\n",
              "    <div>\n",
              "<style scoped>\n",
              "    .dataframe tbody tr th:only-of-type {\n",
              "        vertical-align: middle;\n",
              "    }\n",
              "\n",
              "    .dataframe tbody tr th {\n",
              "        vertical-align: top;\n",
              "    }\n",
              "\n",
              "    .dataframe thead th {\n",
              "        text-align: right;\n",
              "    }\n",
              "</style>\n",
              "<table border=\"1\" class=\"dataframe\">\n",
              "  <thead>\n",
              "    <tr style=\"text-align: right;\">\n",
              "      <th></th>\n",
              "      <th>MSSubClass</th>\n",
              "      <th>MSZoning</th>\n",
              "      <th>LotFrontage</th>\n",
              "      <th>LotArea</th>\n",
              "      <th>Street</th>\n",
              "      <th>Alley</th>\n",
              "      <th>LotShape</th>\n",
              "      <th>LandContour</th>\n",
              "      <th>Utilities</th>\n",
              "      <th>LotConfig</th>\n",
              "      <th>...</th>\n",
              "      <th>PoolArea</th>\n",
              "      <th>PoolQC</th>\n",
              "      <th>Fence</th>\n",
              "      <th>MiscFeature</th>\n",
              "      <th>MiscVal</th>\n",
              "      <th>MoSold</th>\n",
              "      <th>YrSold</th>\n",
              "      <th>SaleType</th>\n",
              "      <th>SaleCondition</th>\n",
              "      <th>SalePrice</th>\n",
              "    </tr>\n",
              "    <tr>\n",
              "      <th>Id</th>\n",
              "      <th></th>\n",
              "      <th></th>\n",
              "      <th></th>\n",
              "      <th></th>\n",
              "      <th></th>\n",
              "      <th></th>\n",
              "      <th></th>\n",
              "      <th></th>\n",
              "      <th></th>\n",
              "      <th></th>\n",
              "      <th></th>\n",
              "      <th></th>\n",
              "      <th></th>\n",
              "      <th></th>\n",
              "      <th></th>\n",
              "      <th></th>\n",
              "      <th></th>\n",
              "      <th></th>\n",
              "      <th></th>\n",
              "      <th></th>\n",
              "      <th></th>\n",
              "    </tr>\n",
              "  </thead>\n",
              "  <tbody>\n",
              "    <tr>\n",
              "      <th>1</th>\n",
              "      <td>60</td>\n",
              "      <td>RL</td>\n",
              "      <td>65.0</td>\n",
              "      <td>8450</td>\n",
              "      <td>Pave</td>\n",
              "      <td>NaN</td>\n",
              "      <td>Reg</td>\n",
              "      <td>Lvl</td>\n",
              "      <td>AllPub</td>\n",
              "      <td>Inside</td>\n",
              "      <td>...</td>\n",
              "      <td>0</td>\n",
              "      <td>NaN</td>\n",
              "      <td>NaN</td>\n",
              "      <td>NaN</td>\n",
              "      <td>0</td>\n",
              "      <td>2</td>\n",
              "      <td>2008</td>\n",
              "      <td>WD</td>\n",
              "      <td>Normal</td>\n",
              "      <td>208500</td>\n",
              "    </tr>\n",
              "    <tr>\n",
              "      <th>2</th>\n",
              "      <td>20</td>\n",
              "      <td>RL</td>\n",
              "      <td>80.0</td>\n",
              "      <td>9600</td>\n",
              "      <td>Pave</td>\n",
              "      <td>NaN</td>\n",
              "      <td>Reg</td>\n",
              "      <td>Lvl</td>\n",
              "      <td>AllPub</td>\n",
              "      <td>FR2</td>\n",
              "      <td>...</td>\n",
              "      <td>0</td>\n",
              "      <td>NaN</td>\n",
              "      <td>NaN</td>\n",
              "      <td>NaN</td>\n",
              "      <td>0</td>\n",
              "      <td>5</td>\n",
              "      <td>2007</td>\n",
              "      <td>WD</td>\n",
              "      <td>Normal</td>\n",
              "      <td>181500</td>\n",
              "    </tr>\n",
              "    <tr>\n",
              "      <th>3</th>\n",
              "      <td>60</td>\n",
              "      <td>RL</td>\n",
              "      <td>68.0</td>\n",
              "      <td>11250</td>\n",
              "      <td>Pave</td>\n",
              "      <td>NaN</td>\n",
              "      <td>IR1</td>\n",
              "      <td>Lvl</td>\n",
              "      <td>AllPub</td>\n",
              "      <td>Inside</td>\n",
              "      <td>...</td>\n",
              "      <td>0</td>\n",
              "      <td>NaN</td>\n",
              "      <td>NaN</td>\n",
              "      <td>NaN</td>\n",
              "      <td>0</td>\n",
              "      <td>9</td>\n",
              "      <td>2008</td>\n",
              "      <td>WD</td>\n",
              "      <td>Normal</td>\n",
              "      <td>223500</td>\n",
              "    </tr>\n",
              "    <tr>\n",
              "      <th>4</th>\n",
              "      <td>70</td>\n",
              "      <td>RL</td>\n",
              "      <td>60.0</td>\n",
              "      <td>9550</td>\n",
              "      <td>Pave</td>\n",
              "      <td>NaN</td>\n",
              "      <td>IR1</td>\n",
              "      <td>Lvl</td>\n",
              "      <td>AllPub</td>\n",
              "      <td>Corner</td>\n",
              "      <td>...</td>\n",
              "      <td>0</td>\n",
              "      <td>NaN</td>\n",
              "      <td>NaN</td>\n",
              "      <td>NaN</td>\n",
              "      <td>0</td>\n",
              "      <td>2</td>\n",
              "      <td>2006</td>\n",
              "      <td>WD</td>\n",
              "      <td>Abnorml</td>\n",
              "      <td>140000</td>\n",
              "    </tr>\n",
              "    <tr>\n",
              "      <th>5</th>\n",
              "      <td>60</td>\n",
              "      <td>RL</td>\n",
              "      <td>84.0</td>\n",
              "      <td>14260</td>\n",
              "      <td>Pave</td>\n",
              "      <td>NaN</td>\n",
              "      <td>IR1</td>\n",
              "      <td>Lvl</td>\n",
              "      <td>AllPub</td>\n",
              "      <td>FR2</td>\n",
              "      <td>...</td>\n",
              "      <td>0</td>\n",
              "      <td>NaN</td>\n",
              "      <td>NaN</td>\n",
              "      <td>NaN</td>\n",
              "      <td>0</td>\n",
              "      <td>12</td>\n",
              "      <td>2008</td>\n",
              "      <td>WD</td>\n",
              "      <td>Normal</td>\n",
              "      <td>250000</td>\n",
              "    </tr>\n",
              "  </tbody>\n",
              "</table>\n",
              "<p>5 rows × 80 columns</p>\n",
              "</div>\n",
              "    <div class=\"colab-df-buttons\">\n",
              "\n",
              "  <div class=\"colab-df-container\">\n",
              "    <button class=\"colab-df-convert\" onclick=\"convertToInteractive('df-5b7eef8a-6df5-4464-8792-f7deca8f177b')\"\n",
              "            title=\"Convert this dataframe to an interactive table.\"\n",
              "            style=\"display:none;\">\n",
              "\n",
              "  <svg xmlns=\"http://www.w3.org/2000/svg\" height=\"24px\" viewBox=\"0 -960 960 960\">\n",
              "    <path d=\"M120-120v-720h720v720H120Zm60-500h600v-160H180v160Zm220 220h160v-160H400v160Zm0 220h160v-160H400v160ZM180-400h160v-160H180v160Zm440 0h160v-160H620v160ZM180-180h160v-160H180v160Zm440 0h160v-160H620v160Z\"/>\n",
              "  </svg>\n",
              "    </button>\n",
              "\n",
              "  <style>\n",
              "    .colab-df-container {\n",
              "      display:flex;\n",
              "      gap: 12px;\n",
              "    }\n",
              "\n",
              "    .colab-df-convert {\n",
              "      background-color: #E8F0FE;\n",
              "      border: none;\n",
              "      border-radius: 50%;\n",
              "      cursor: pointer;\n",
              "      display: none;\n",
              "      fill: #1967D2;\n",
              "      height: 32px;\n",
              "      padding: 0 0 0 0;\n",
              "      width: 32px;\n",
              "    }\n",
              "\n",
              "    .colab-df-convert:hover {\n",
              "      background-color: #E2EBFA;\n",
              "      box-shadow: 0px 1px 2px rgba(60, 64, 67, 0.3), 0px 1px 3px 1px rgba(60, 64, 67, 0.15);\n",
              "      fill: #174EA6;\n",
              "    }\n",
              "\n",
              "    .colab-df-buttons div {\n",
              "      margin-bottom: 4px;\n",
              "    }\n",
              "\n",
              "    [theme=dark] .colab-df-convert {\n",
              "      background-color: #3B4455;\n",
              "      fill: #D2E3FC;\n",
              "    }\n",
              "\n",
              "    [theme=dark] .colab-df-convert:hover {\n",
              "      background-color: #434B5C;\n",
              "      box-shadow: 0px 1px 3px 1px rgba(0, 0, 0, 0.15);\n",
              "      filter: drop-shadow(0px 1px 2px rgba(0, 0, 0, 0.3));\n",
              "      fill: #FFFFFF;\n",
              "    }\n",
              "  </style>\n",
              "\n",
              "    <script>\n",
              "      const buttonEl =\n",
              "        document.querySelector('#df-5b7eef8a-6df5-4464-8792-f7deca8f177b button.colab-df-convert');\n",
              "      buttonEl.style.display =\n",
              "        google.colab.kernel.accessAllowed ? 'block' : 'none';\n",
              "\n",
              "      async function convertToInteractive(key) {\n",
              "        const element = document.querySelector('#df-5b7eef8a-6df5-4464-8792-f7deca8f177b');\n",
              "        const dataTable =\n",
              "          await google.colab.kernel.invokeFunction('convertToInteractive',\n",
              "                                                    [key], {});\n",
              "        if (!dataTable) return;\n",
              "\n",
              "        const docLinkHtml = 'Like what you see? Visit the ' +\n",
              "          '<a target=\"_blank\" href=https://colab.research.google.com/notebooks/data_table.ipynb>data table notebook</a>'\n",
              "          + ' to learn more about interactive tables.';\n",
              "        element.innerHTML = '';\n",
              "        dataTable['output_type'] = 'display_data';\n",
              "        await google.colab.output.renderOutput(dataTable, element);\n",
              "        const docLink = document.createElement('div');\n",
              "        docLink.innerHTML = docLinkHtml;\n",
              "        element.appendChild(docLink);\n",
              "      }\n",
              "    </script>\n",
              "  </div>\n",
              "\n",
              "\n",
              "<div id=\"df-1a9bf05a-b08e-4d06-8c85-9e0ffb6c5eb1\">\n",
              "  <button class=\"colab-df-quickchart\" onclick=\"quickchart('df-1a9bf05a-b08e-4d06-8c85-9e0ffb6c5eb1')\"\n",
              "            title=\"Suggest charts\"\n",
              "            style=\"display:none;\">\n",
              "\n",
              "<svg xmlns=\"http://www.w3.org/2000/svg\" height=\"24px\"viewBox=\"0 0 24 24\"\n",
              "     width=\"24px\">\n",
              "    <g>\n",
              "        <path d=\"M19 3H5c-1.1 0-2 .9-2 2v14c0 1.1.9 2 2 2h14c1.1 0 2-.9 2-2V5c0-1.1-.9-2-2-2zM9 17H7v-7h2v7zm4 0h-2V7h2v10zm4 0h-2v-4h2v4z\"/>\n",
              "    </g>\n",
              "</svg>\n",
              "  </button>\n",
              "\n",
              "<style>\n",
              "  .colab-df-quickchart {\n",
              "      --bg-color: #E8F0FE;\n",
              "      --fill-color: #1967D2;\n",
              "      --hover-bg-color: #E2EBFA;\n",
              "      --hover-fill-color: #174EA6;\n",
              "      --disabled-fill-color: #AAA;\n",
              "      --disabled-bg-color: #DDD;\n",
              "  }\n",
              "\n",
              "  [theme=dark] .colab-df-quickchart {\n",
              "      --bg-color: #3B4455;\n",
              "      --fill-color: #D2E3FC;\n",
              "      --hover-bg-color: #434B5C;\n",
              "      --hover-fill-color: #FFFFFF;\n",
              "      --disabled-bg-color: #3B4455;\n",
              "      --disabled-fill-color: #666;\n",
              "  }\n",
              "\n",
              "  .colab-df-quickchart {\n",
              "    background-color: var(--bg-color);\n",
              "    border: none;\n",
              "    border-radius: 50%;\n",
              "    cursor: pointer;\n",
              "    display: none;\n",
              "    fill: var(--fill-color);\n",
              "    height: 32px;\n",
              "    padding: 0;\n",
              "    width: 32px;\n",
              "  }\n",
              "\n",
              "  .colab-df-quickchart:hover {\n",
              "    background-color: var(--hover-bg-color);\n",
              "    box-shadow: 0 1px 2px rgba(60, 64, 67, 0.3), 0 1px 3px 1px rgba(60, 64, 67, 0.15);\n",
              "    fill: var(--button-hover-fill-color);\n",
              "  }\n",
              "\n",
              "  .colab-df-quickchart-complete:disabled,\n",
              "  .colab-df-quickchart-complete:disabled:hover {\n",
              "    background-color: var(--disabled-bg-color);\n",
              "    fill: var(--disabled-fill-color);\n",
              "    box-shadow: none;\n",
              "  }\n",
              "\n",
              "  .colab-df-spinner {\n",
              "    border: 2px solid var(--fill-color);\n",
              "    border-color: transparent;\n",
              "    border-bottom-color: var(--fill-color);\n",
              "    animation:\n",
              "      spin 1s steps(1) infinite;\n",
              "  }\n",
              "\n",
              "  @keyframes spin {\n",
              "    0% {\n",
              "      border-color: transparent;\n",
              "      border-bottom-color: var(--fill-color);\n",
              "      border-left-color: var(--fill-color);\n",
              "    }\n",
              "    20% {\n",
              "      border-color: transparent;\n",
              "      border-left-color: var(--fill-color);\n",
              "      border-top-color: var(--fill-color);\n",
              "    }\n",
              "    30% {\n",
              "      border-color: transparent;\n",
              "      border-left-color: var(--fill-color);\n",
              "      border-top-color: var(--fill-color);\n",
              "      border-right-color: var(--fill-color);\n",
              "    }\n",
              "    40% {\n",
              "      border-color: transparent;\n",
              "      border-right-color: var(--fill-color);\n",
              "      border-top-color: var(--fill-color);\n",
              "    }\n",
              "    60% {\n",
              "      border-color: transparent;\n",
              "      border-right-color: var(--fill-color);\n",
              "    }\n",
              "    80% {\n",
              "      border-color: transparent;\n",
              "      border-right-color: var(--fill-color);\n",
              "      border-bottom-color: var(--fill-color);\n",
              "    }\n",
              "    90% {\n",
              "      border-color: transparent;\n",
              "      border-bottom-color: var(--fill-color);\n",
              "    }\n",
              "  }\n",
              "</style>\n",
              "\n",
              "  <script>\n",
              "    async function quickchart(key) {\n",
              "      const quickchartButtonEl =\n",
              "        document.querySelector('#' + key + ' button');\n",
              "      quickchartButtonEl.disabled = true;  // To prevent multiple clicks.\n",
              "      quickchartButtonEl.classList.add('colab-df-spinner');\n",
              "      try {\n",
              "        const charts = await google.colab.kernel.invokeFunction(\n",
              "            'suggestCharts', [key], {});\n",
              "      } catch (error) {\n",
              "        console.error('Error during call to suggestCharts:', error);\n",
              "      }\n",
              "      quickchartButtonEl.classList.remove('colab-df-spinner');\n",
              "      quickchartButtonEl.classList.add('colab-df-quickchart-complete');\n",
              "    }\n",
              "    (() => {\n",
              "      let quickchartButtonEl =\n",
              "        document.querySelector('#df-1a9bf05a-b08e-4d06-8c85-9e0ffb6c5eb1 button');\n",
              "      quickchartButtonEl.style.display =\n",
              "        google.colab.kernel.accessAllowed ? 'block' : 'none';\n",
              "    })();\n",
              "  </script>\n",
              "</div>\n",
              "\n",
              "    </div>\n",
              "  </div>\n"
            ],
            "application/vnd.google.colaboratory.intrinsic+json": {
              "type": "dataframe",
              "variable_name": "X"
            }
          },
          "metadata": {},
          "execution_count": 4
        }
      ]
    },
    {
      "cell_type": "code",
      "source": [
        "y = X['SalePrice']\n",
        "X.drop('SalePrice', axis=1, inplace=True)"
      ],
      "metadata": {
        "execution": {
          "iopub.status.busy": "2024-07-17T02:35:00.194762Z",
          "iopub.execute_input": "2024-07-17T02:35:00.195856Z",
          "iopub.status.idle": "2024-07-17T02:35:00.202828Z",
          "shell.execute_reply.started": "2024-07-17T02:35:00.195817Z",
          "shell.execute_reply": "2024-07-17T02:35:00.201605Z"
        },
        "trusted": true,
        "id": "JjET2qenj32_"
      },
      "execution_count": 5,
      "outputs": []
    },
    {
      "cell_type": "markdown",
      "source": [
        "### Data Preprocessing"
      ],
      "metadata": {
        "id": "o-ndtLvaj33A"
      }
    },
    {
      "cell_type": "markdown",
      "source": [
        "#### Handling MIssing Values"
      ],
      "metadata": {
        "id": "Hk0DbV1tj33A"
      }
    },
    {
      "cell_type": "code",
      "source": [
        "numeric_cols = X.select_dtypes(include=[np.number]).columns\n",
        "categorical_cols = X.select_dtypes(include=[object, 'category']).columns"
      ],
      "metadata": {
        "execution": {
          "iopub.status.busy": "2024-07-17T02:35:00.890403Z",
          "iopub.execute_input": "2024-07-17T02:35:00.890869Z",
          "iopub.status.idle": "2024-07-17T02:35:00.899287Z",
          "shell.execute_reply.started": "2024-07-17T02:35:00.890831Z",
          "shell.execute_reply": "2024-07-17T02:35:00.897988Z"
        },
        "trusted": true,
        "id": "fx4E7swzj33A"
      },
      "execution_count": 6,
      "outputs": []
    },
    {
      "cell_type": "code",
      "source": [
        "X[numeric_cols] = X[numeric_cols].fillna(X[numeric_cols].mean())\n",
        "X[categorical_cols] = X[categorical_cols].fillna(X[categorical_cols].mode().iloc[0])"
      ],
      "metadata": {
        "execution": {
          "iopub.status.busy": "2024-07-17T02:35:01.344951Z",
          "iopub.execute_input": "2024-07-17T02:35:01.345374Z",
          "iopub.status.idle": "2024-07-17T02:35:01.412871Z",
          "shell.execute_reply.started": "2024-07-17T02:35:01.345325Z",
          "shell.execute_reply": "2024-07-17T02:35:01.411653Z"
        },
        "trusted": true,
        "id": "fkfGy5pWj33B"
      },
      "execution_count": 7,
      "outputs": []
    },
    {
      "cell_type": "code",
      "source": [
        "X_test[numeric_cols] = X_test[numeric_cols].fillna(X_test[numeric_cols].mean())\n",
        "X_test[categorical_cols] = X_test[categorical_cols].fillna(X_test[categorical_cols].mode().iloc[0])"
      ],
      "metadata": {
        "execution": {
          "iopub.status.busy": "2024-07-17T02:35:01.774895Z",
          "iopub.execute_input": "2024-07-17T02:35:01.775297Z",
          "iopub.status.idle": "2024-07-17T02:35:01.843612Z",
          "shell.execute_reply.started": "2024-07-17T02:35:01.775263Z",
          "shell.execute_reply": "2024-07-17T02:35:01.842384Z"
        },
        "trusted": true,
        "id": "s1DzS2Ypj33B"
      },
      "execution_count": 8,
      "outputs": []
    },
    {
      "cell_type": "markdown",
      "source": [
        "#### Removing Outliers"
      ],
      "metadata": {
        "id": "xpZ2il__j33C"
      }
    },
    {
      "cell_type": "code",
      "source": [
        "z_scores = np.abs(stats.zscore(X[numeric_cols]))\n",
        "X = X[(z_scores < 3).all(axis=1)]\n",
        "y = y[X.index]"
      ],
      "metadata": {
        "execution": {
          "iopub.status.busy": "2024-07-17T02:35:02.635437Z",
          "iopub.execute_input": "2024-07-17T02:35:02.635917Z",
          "iopub.status.idle": "2024-07-17T02:35:02.660988Z",
          "shell.execute_reply.started": "2024-07-17T02:35:02.635881Z",
          "shell.execute_reply": "2024-07-17T02:35:02.659631Z"
        },
        "trusted": true,
        "id": "_NrwYYHFj33C"
      },
      "execution_count": 9,
      "outputs": []
    },
    {
      "cell_type": "markdown",
      "source": [
        "#### One Hot Encoding"
      ],
      "metadata": {
        "id": "MwJB0_JBj33C"
      }
    },
    {
      "cell_type": "code",
      "source": [
        "X = pd.get_dummies(X)\n",
        "X_test = pd.get_dummies(X_test)"
      ],
      "metadata": {
        "execution": {
          "iopub.status.busy": "2024-07-17T02:35:04.530014Z",
          "iopub.execute_input": "2024-07-17T02:35:04.530543Z",
          "iopub.status.idle": "2024-07-17T02:35:04.618839Z",
          "shell.execute_reply.started": "2024-07-17T02:35:04.530504Z",
          "shell.execute_reply": "2024-07-17T02:35:04.617829Z"
        },
        "trusted": true,
        "id": "m6pr_azcj33D"
      },
      "execution_count": 10,
      "outputs": []
    },
    {
      "cell_type": "code",
      "source": [
        "X, X_test = X.align(X_test, join='left', axis=1, fill_value=0)"
      ],
      "metadata": {
        "execution": {
          "iopub.status.busy": "2024-07-17T02:35:04.995183Z",
          "iopub.execute_input": "2024-07-17T02:35:04.995638Z",
          "iopub.status.idle": "2024-07-17T02:35:05.006896Z",
          "shell.execute_reply.started": "2024-07-17T02:35:04.995594Z",
          "shell.execute_reply": "2024-07-17T02:35:05.005634Z"
        },
        "trusted": true,
        "id": "d7fa1UuSj33D"
      },
      "execution_count": 11,
      "outputs": []
    },
    {
      "cell_type": "markdown",
      "source": [
        "#### Splitting the dataset"
      ],
      "metadata": {
        "id": "pV12l5I9j33D"
      }
    },
    {
      "cell_type": "code",
      "source": [
        "X_train, X_val, y_train, y_val = train_test_split(X, y, test_size=0.2, random_state=42)"
      ],
      "metadata": {
        "execution": {
          "iopub.status.busy": "2024-07-17T02:35:06.144978Z",
          "iopub.execute_input": "2024-07-17T02:35:06.145419Z",
          "iopub.status.idle": "2024-07-17T02:35:06.154225Z",
          "shell.execute_reply.started": "2024-07-17T02:35:06.145383Z",
          "shell.execute_reply": "2024-07-17T02:35:06.15299Z"
        },
        "trusted": true,
        "id": "ZpABX-7Wj33D"
      },
      "execution_count": 12,
      "outputs": []
    },
    {
      "cell_type": "markdown",
      "source": [
        "#### Feature Scaling"
      ],
      "metadata": {
        "id": "fln3zlCUj33E"
      }
    },
    {
      "cell_type": "code",
      "source": [
        "scaler = StandardScaler()\n",
        "X_train = scaler.fit_transform(X_train)\n",
        "X_val = scaler.transform(X_val)\n",
        "X_test = scaler.transform(X_test)"
      ],
      "metadata": {
        "execution": {
          "iopub.status.busy": "2024-07-17T02:35:07.789766Z",
          "iopub.execute_input": "2024-07-17T02:35:07.790741Z",
          "iopub.status.idle": "2024-07-17T02:35:07.835521Z",
          "shell.execute_reply.started": "2024-07-17T02:35:07.790689Z",
          "shell.execute_reply": "2024-07-17T02:35:07.834446Z"
        },
        "trusted": true,
        "id": "3G4OdT2Lj33E"
      },
      "execution_count": 13,
      "outputs": []
    },
    {
      "cell_type": "markdown",
      "source": [
        "### Simple Linear Regression"
      ],
      "metadata": {
        "id": "KUNFIeUAj33E"
      }
    },
    {
      "cell_type": "code",
      "source": [
        "linear_regressor = LinearRegression()\n",
        "linear_regressor.fit(X_train, y_train)\n",
        "y_pred_lr = linear_regressor.predict(X_val)\n",
        "mse_lr = mean_squared_error(y_val, y_pred_lr)\n",
        "print(f'Simple Linear Regression MSE: {mse_lr}')"
      ],
      "metadata": {
        "execution": {
          "iopub.status.busy": "2024-07-17T02:36:32.909822Z",
          "iopub.execute_input": "2024-07-17T02:36:32.910226Z",
          "iopub.status.idle": "2024-07-17T02:36:32.958718Z",
          "shell.execute_reply.started": "2024-07-17T02:36:32.910194Z",
          "shell.execute_reply": "2024-07-17T02:36:32.957513Z"
        },
        "trusted": true,
        "id": "koOq7W7Gj33E",
        "outputId": "a51306c6-9541-455e-d8e8-b535aa96196a",
        "colab": {
          "base_uri": "https://localhost:8080/"
        }
      },
      "execution_count": 14,
      "outputs": [
        {
          "output_type": "stream",
          "name": "stdout",
          "text": [
            "Simple Linear Regression MSE: 8.510697387441032e+31\n"
          ]
        }
      ]
    },
    {
      "cell_type": "markdown",
      "source": [
        "### Multiple Linear Regression"
      ],
      "metadata": {
        "id": "GdlamNHJj33F"
      }
    },
    {
      "cell_type": "code",
      "source": [
        "multiple_linear_regressor = LinearRegression()\n",
        "multiple_linear_regressor.fit(X_train, y_train)\n",
        "y_pred_mlr = multiple_linear_regressor.predict(X_val)\n",
        "mse_mlr = mean_squared_error(y_val, y_pred_mlr)\n",
        "print(f'Multiple Linear Regression MSE: {mse_mlr}')"
      ],
      "metadata": {
        "execution": {
          "iopub.status.busy": "2024-07-17T02:33:28.865123Z",
          "iopub.execute_input": "2024-07-17T02:33:28.865539Z",
          "iopub.status.idle": "2024-07-17T02:33:28.927565Z",
          "shell.execute_reply.started": "2024-07-17T02:33:28.865506Z",
          "shell.execute_reply": "2024-07-17T02:33:28.926257Z"
        },
        "trusted": true,
        "id": "CNra-Se7j33F",
        "outputId": "bc7fe677-3f32-451d-e5eb-ce91465542a9",
        "colab": {
          "base_uri": "https://localhost:8080/"
        }
      },
      "execution_count": 15,
      "outputs": [
        {
          "output_type": "stream",
          "name": "stdout",
          "text": [
            "Multiple Linear Regression MSE: 8.510697387441032e+31\n"
          ]
        }
      ]
    },
    {
      "cell_type": "markdown",
      "source": [
        "### Polynomial Regression"
      ],
      "metadata": {
        "id": "HteJ31kRj33F"
      }
    },
    {
      "cell_type": "code",
      "source": [
        "poly_features = PolynomialFeatures(degree=2)\n",
        "X_train_poly = poly_features.fit_transform(X_train)\n",
        "X_val_poly = poly_features.transform(X_val)\n",
        "\n",
        "poly_regressor = LinearRegression()\n",
        "poly_regressor.fit(X_train_poly, y_train)\n",
        "y_pred_poly = poly_regressor.predict(X_val_poly)\n",
        "mse_poly = mean_squared_error(y_val, y_pred_poly)\n",
        "print(f'Polynomial Regression MSE: {mse_poly}')"
      ],
      "metadata": {
        "execution": {
          "iopub.status.busy": "2024-07-17T02:28:34.481391Z",
          "iopub.execute_input": "2024-07-17T02:28:34.481864Z",
          "iopub.status.idle": "2024-07-17T02:28:45.077244Z",
          "shell.execute_reply.started": "2024-07-17T02:28:34.481827Z",
          "shell.execute_reply": "2024-07-17T02:28:45.076093Z"
        },
        "trusted": true,
        "id": "nDNtoqjcj33F",
        "outputId": "c2e522a4-643f-483f-cf4a-51ff914dbaa6",
        "colab": {
          "base_uri": "https://localhost:8080/"
        }
      },
      "execution_count": 16,
      "outputs": [
        {
          "output_type": "stream",
          "name": "stdout",
          "text": [
            "Polynomial Regression MSE: 1078128748.81834\n"
          ]
        }
      ]
    },
    {
      "cell_type": "markdown",
      "source": [
        "### Ridge Regression"
      ],
      "metadata": {
        "id": "Po3IwY3Jj33G"
      }
    },
    {
      "cell_type": "code",
      "source": [
        "ridge_regressor = Ridge(alpha=1.0)\n",
        "ridge_regressor.fit(X_train, y_train)\n",
        "y_pred_ridge = ridge_regressor.predict(X_val)\n",
        "mse_ridge = mean_squared_error(y_val, y_pred_ridge)\n",
        "print(f'Ridge Regression MSE: {mse_ridge}')"
      ],
      "metadata": {
        "execution": {
          "iopub.status.busy": "2024-07-17T02:28:57.930919Z",
          "iopub.execute_input": "2024-07-17T02:28:57.931856Z",
          "iopub.status.idle": "2024-07-17T02:28:57.993856Z",
          "shell.execute_reply.started": "2024-07-17T02:28:57.931808Z",
          "shell.execute_reply": "2024-07-17T02:28:57.991558Z"
        },
        "trusted": true,
        "id": "BWWPLWtEj33G",
        "outputId": "7ec8712e-cb07-42db-852a-82a8b7bbb9e6",
        "colab": {
          "base_uri": "https://localhost:8080/"
        }
      },
      "execution_count": 17,
      "outputs": [
        {
          "output_type": "stream",
          "name": "stdout",
          "text": [
            "Ridge Regression MSE: 553925850.0493609\n"
          ]
        }
      ]
    },
    {
      "cell_type": "markdown",
      "source": [
        "### Lasso Regression"
      ],
      "metadata": {
        "id": "WG1aCshKj33G"
      }
    },
    {
      "cell_type": "code",
      "source": [
        "lasso_regressor = Lasso(alpha=1.0)\n",
        "lasso_regressor.fit(X_train, y_train)\n",
        "y_pred_lasso = lasso_regressor.predict(X_val)\n",
        "mse_lasso = mean_squared_error(y_val, y_pred_lasso)\n",
        "print(f'Lasso Regression MSE: {mse_lasso}')"
      ],
      "metadata": {
        "execution": {
          "iopub.status.busy": "2024-07-17T02:29:11.588327Z",
          "iopub.execute_input": "2024-07-17T02:29:11.588741Z",
          "iopub.status.idle": "2024-07-17T02:29:11.980247Z",
          "shell.execute_reply.started": "2024-07-17T02:29:11.588709Z",
          "shell.execute_reply": "2024-07-17T02:29:11.978982Z"
        },
        "trusted": true,
        "id": "bgNBGUaej33G",
        "outputId": "3ae833f5-34c6-4f1e-bc7c-6065653cc748",
        "colab": {
          "base_uri": "https://localhost:8080/"
        }
      },
      "execution_count": 18,
      "outputs": [
        {
          "output_type": "stream",
          "name": "stdout",
          "text": [
            "Lasso Regression MSE: 557448147.76487\n"
          ]
        },
        {
          "output_type": "stream",
          "name": "stderr",
          "text": [
            "/usr/local/lib/python3.10/dist-packages/sklearn/linear_model/_coordinate_descent.py:631: ConvergenceWarning: Objective did not converge. You might want to increase the number of iterations, check the scale of the features or consider increasing regularisation. Duality gap: 4.508e+09, tolerance: 3.501e+08\n",
            "  model = cd_fast.enet_coordinate_descent(\n"
          ]
        }
      ]
    },
    {
      "cell_type": "markdown",
      "source": [
        "### ElasticNet Regression"
      ],
      "metadata": {
        "id": "Kudq5pIBj33H"
      }
    },
    {
      "cell_type": "code",
      "source": [
        "elastic_net_regressor = ElasticNet(alpha=1.0, l1_ratio=0.5)\n",
        "elastic_net_regressor.fit(X_train, y_train)\n",
        "y_pred_enet = elastic_net_regressor.predict(X_val)\n",
        "mse_enet = mean_squared_error(y_val, y_pred_enet)\n",
        "print(f'ElasticNet Regression MSE: {mse_enet}')"
      ],
      "metadata": {
        "execution": {
          "iopub.status.busy": "2024-07-17T02:29:32.733639Z",
          "iopub.execute_input": "2024-07-17T02:29:32.734484Z",
          "iopub.status.idle": "2024-07-17T02:29:32.800047Z",
          "shell.execute_reply.started": "2024-07-17T02:29:32.734437Z",
          "shell.execute_reply": "2024-07-17T02:29:32.798587Z"
        },
        "trusted": true,
        "id": "c0zF00txj33H",
        "outputId": "1b9393c5-44a5-4d96-b882-b1a3bced0496",
        "colab": {
          "base_uri": "https://localhost:8080/"
        }
      },
      "execution_count": 19,
      "outputs": [
        {
          "output_type": "stream",
          "name": "stdout",
          "text": [
            "ElasticNet Regression MSE: 560659188.5146434\n"
          ]
        }
      ]
    },
    {
      "cell_type": "code",
      "source": [],
      "metadata": {
        "id": "J5uZzNGFj33H"
      },
      "execution_count": 19,
      "outputs": []
    }
  ]
}